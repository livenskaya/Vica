{
 "cells": [
  {
   "cell_type": "code",
   "execution_count": 1,
   "metadata": {
    "scrolled": true
   },
   "outputs": [
    {
     "name": "stdout",
     "output_type": "stream",
     "text": [
      "2\n"
     ]
    }
   ],
   "source": [
    "print(1+1)"
   ]
  },
  {
   "cell_type": "code",
   "execution_count": 2,
   "metadata": {
    "scrolled": true
   },
   "outputs": [
    {
     "name": "stdout",
     "output_type": "stream",
     "text": [
      "1 11\n"
     ]
    }
   ],
   "source": [
    "print(2-1, 5+6)"
   ]
  },
  {
   "cell_type": "code",
   "execution_count": 3,
   "metadata": {
    "scrolled": true
   },
   "outputs": [
    {
     "data": {
      "text/plain": [
       "2"
      ]
     },
     "execution_count": 3,
     "metadata": {},
     "output_type": "execute_result"
    }
   ],
   "source": [
    "1+1"
   ]
  },
  {
   "cell_type": "code",
   "execution_count": 4,
   "metadata": {
    "scrolled": true
   },
   "outputs": [
    {
     "data": {
      "text/plain": [
       "1"
      ]
     },
     "execution_count": 4,
     "metadata": {},
     "output_type": "execute_result"
    }
   ],
   "source": [
    "1+1\n",
    "2-1"
   ]
  },
  {
   "cell_type": "code",
   "execution_count": 5,
   "metadata": {
    "scrolled": true
   },
   "outputs": [
    {
     "name": "stdout",
     "output_type": "stream",
     "text": [
      "2\n",
      "1\n"
     ]
    }
   ],
   "source": [
    "print(1+1)\n",
    "print(2-1)"
   ]
  },
  {
   "cell_type": "code",
   "execution_count": 6,
   "metadata": {
    "scrolled": true
   },
   "outputs": [
    {
     "data": {
      "text/plain": [
       "30"
      ]
     },
     "execution_count": 6,
     "metadata": {},
     "output_type": "execute_result"
    }
   ],
   "source": [
    "5*6"
   ]
  },
  {
   "cell_type": "code",
   "execution_count": 7,
   "metadata": {
    "scrolled": true
   },
   "outputs": [
    {
     "data": {
      "text/plain": [
       "8.0"
      ]
     },
     "execution_count": 7,
     "metadata": {},
     "output_type": "execute_result"
    }
   ],
   "source": [
    "64/8"
   ]
  },
  {
   "cell_type": "code",
   "execution_count": 8,
   "metadata": {
    "scrolled": true
   },
   "outputs": [
    {
     "data": {
      "text/plain": [
       "2"
      ]
     },
     "execution_count": 8,
     "metadata": {},
     "output_type": "execute_result"
    }
   ],
   "source": [
    "10//4"
   ]
  },
  {
   "cell_type": "code",
   "execution_count": 9,
   "metadata": {
    "scrolled": true
   },
   "outputs": [
    {
     "data": {
      "text/plain": [
       "32"
      ]
     },
     "execution_count": 9,
     "metadata": {},
     "output_type": "execute_result"
    }
   ],
   "source": [
    "2**5 #возведение в степень"
   ]
  },
  {
   "cell_type": "code",
   "execution_count": 10,
   "metadata": {
    "scrolled": true
   },
   "outputs": [
    {
     "name": "stdout",
     "output_type": "stream",
     "text": [
      "ответ: 0.03333333333333333\n"
     ]
    }
   ],
   "source": [
    "a=10+20\n",
    "b=a*30\n",
    "c=a/b\n",
    "print(\"ответ:\",c)"
   ]
  },
  {
   "cell_type": "code",
   "execution_count": 11,
   "metadata": {
    "scrolled": true
   },
   "outputs": [
    {
     "name": "stdout",
     "output_type": "stream",
     "text": [
      "Hello World\n"
     ]
    }
   ],
   "source": [
    "print (\"Hello World\")"
   ]
  },
  {
   "cell_type": "markdown",
   "metadata": {},
   "source": [
    "my_string_1 = \"Hello World\""
   ]
  },
  {
   "cell_type": "code",
   "execution_count": 12,
   "metadata": {
    "scrolled": true
   },
   "outputs": [
    {
     "data": {
      "text/plain": [
       "True"
      ]
     },
     "execution_count": 12,
     "metadata": {},
     "output_type": "execute_result"
    }
   ],
   "source": [
    "2>1"
   ]
  },
  {
   "cell_type": "code",
   "execution_count": 13,
   "metadata": {
    "scrolled": true
   },
   "outputs": [
    {
     "name": "stdout",
     "output_type": "stream",
     "text": [
      "7 нечетное число\n"
     ]
    }
   ],
   "source": [
    "x = 7\n",
    "if x%2==0:\n",
    "    print(x, \"четное число\")\n",
    "else:\n",
    "    print (x, \"нечетное число\")"
   ]
  },
  {
   "cell_type": "code",
   "execution_count": 14,
   "metadata": {
    "scrolled": true
   },
   "outputs": [
    {
     "name": "stdout",
     "output_type": "stream",
     "text": [
      "стандартная коробка №3\n"
     ]
    }
   ],
   "source": [
    "width=5\n",
    "length=150\n",
    "height=5\n",
    "if width<15 and length<15 and height<15:\n",
    "    print (\"Коробка1\")\n",
    "elif length >200:\n",
    "    print (\"ищите упаковку для лыж\")\n",
    "elif 15<=width<=50 or 15<=length<=50 or 15<=height<=50:\n",
    "    print (\"Коробка2\")\n",
    "\n",
    "else:\n",
    "     print(\"стандартная коробка №3\")\n"
   ]
  },
  {
   "cell_type": "code",
   "execution_count": 15,
   "metadata": {
    "scrolled": true
   },
   "outputs": [
    {
     "data": {
      "text/plain": [
       "True"
      ]
     },
     "execution_count": 15,
     "metadata": {},
     "output_type": "execute_result"
    }
   ],
   "source": [
    "long_phrase = 'Насколько проще было бы писать программы, если бы не заказчики'\n",
    "short_phrase = '640Кб должно хватить для любых задач. Билл Гейтс (по легенде)'\n",
    "len (long_phrase) > len (short_phrase)\n"
   ]
  },
  {
   "cell_type": "code",
   "execution_count": 16,
   "metadata": {
    "scrolled": false
   },
   "outputs": [
    {
     "name": "stdout",
     "output_type": "stream",
     "text": [
      "Объем файла равен 213.68 Mb\n"
     ]
    }
   ],
   "source": [
    "x=224059719.68\n",
    "\n",
    "y=x/(2**20)\n",
    "y = float('{:.2f}'.format(y))\n",
    "print ('Объем файла равен', y, 'Mb')\n",
    "\n"
   ]
  },
  {
   "cell_type": "code",
   "execution_count": 17,
   "metadata": {
    "scrolled": true
   },
   "outputs": [
    {
     "data": {
      "text/plain": [
       "224059719.68"
      ]
     },
     "execution_count": 17,
     "metadata": {},
     "output_type": "execute_result"
    }
   ],
   "source": [
    "213.68*2**20"
   ]
  },
  {
   "cell_type": "code",
   "execution_count": 46,
   "metadata": {
    "scrolled": true
   },
   "outputs": [
    {
     "name": "stdout",
     "output_type": "stream",
     "text": [
      " введите число рождения 26\n",
      " введите месяц рождения строчными буквами в именительном падеже сентябрь\n",
      "Весы\n"
     ]
    }
   ],
   "source": [
    "user_input1=int (input(' введите число рождения '))\n",
    "string=str (input(' введите месяц рождения строчными буквами в именительном падеже '))   \n",
    "if (21<=user_input1<=31 and string =='март') or (1<=user_input1<=20 and string =='апрель') :\n",
    "    print('Овен')\n",
    "elif (21<=user_input1<=30 and string =='апрель') or (1<=user_input1<=20 and string =='май') :\n",
    "    print('Телец')\n",
    "elif (21<=user_input1<=31 and string =='май') or (1<=user_input1<=20 and string =='июнь') :\n",
    "    print('Близнецы')\n",
    "elif (21<=user_input1<=30 and string =='июнь') or (1<=user_input1<=22 and string =='июль') :\n",
    "    print('Рак')\n",
    "elif (23<=user_input1<=31 and string =='июль') or (1<=user_input1<=22 and string =='авгст') :\n",
    "    print('Лев')\n",
    "elif (23<=user_input1<=31 and string =='август') or (1<=user_input1<=22 and string =='сентябрь') :\n",
    "    print('Дева')\n",
    "elif (23<=user_input1<=30 and string =='сентябрь') or (1<=user_input1<=22 and string =='октябрь') :\n",
    "    print('Весы')\n",
    "elif (23<=user_input1<=31 and string =='октябрь') or (1<=user_input1<=22 and string =='ноябрь') :\n",
    "    print('Скорпион')\n",
    "elif (23<=user_input1<=30 and string =='ноябрь') or (1<=user_input1<=21 and string =='декабрь') :\n",
    "    print('Стрелец')\n",
    "elif (22<=user_input1<=31 and string =='декабрь') or (1<=user_input1<=19 and string =='январь') :\n",
    "    print('Козерог')\n",
    "elif (20<=user_input1<=31 and string =='январь') or (1<=user_input1<=19 and string =='февраль') :\n",
    "    print('Водолей')\n",
    "elif (20<=user_input1<=29 and string =='февраль') or (1<=user_input1<=20 and string =='март') :\n",
    "    print('Рыбы')"
   ]
  },
  {
   "cell_type": "code",
   "execution_count": 47,
   "metadata": {
    "scrolled": true
   },
   "outputs": [
    {
     "name": "stdout",
     "output_type": "stream",
     "text": [
      "Hello Vicusya\n"
     ]
    }
   ],
   "source": [
    "print ('Hello Vicusha')"
   ]
  },
  {
   "cell_type": "code",
   "execution_count": 49,
   "metadata": {
    "scrolled": true
   },
   "outputs": [
    {
     "name": "stdout",
     "output_type": "stream",
     "text": [
      "Введите заработанную плату в месяц 1000\n",
      "Введите сколько процентов уходит на ипотеку 50\n",
      "Введите сколько процентов уходит на жизнь 20\n",
      "Введите количество премий за год 2\n",
      "Вывод: В год на ипотеку было потрачено: 6000.0 рублей. Было накоплено: 4600.0 рублей\n"
     ]
    }
   ],
   "source": [
    "user_input_salary = int (input('Введите заработанную плату в месяц '))\n",
    "\n",
    "user_input_loan = int (input('Введите сколько процентов уходит на ипотеку '))\n",
    "\n",
    "user_input_daily = int(input('Введите сколько процентов уходит на жизнь '))\n",
    "\n",
    "user_input_exstrapay = int(input('Введите количество премий за год '))\n",
    "\n",
    "loan=user_input_salary*12*user_input_loan/100\n",
    "\n",
    "pension=user_input_salary*12-loan-user_input_salary*12*user_input_daily/100+user_input_exstrapay*user_input_salary/2\n",
    "\n",
    "print ('Вывод: В год на ипотеку было потрачено:', loan,'рублей. Было накоплено:',pension, 'рублей')\n"
   ]
  },
  {
   "cell_type": "code",
   "execution_count": null,
   "metadata": {
    "scrolled": true
   },
   "outputs": [],
   "source": []
  },
  {
   "cell_type": "code",
   "execution_count": null,
   "metadata": {
    "scrolled": true
   },
   "outputs": [],
   "source": []
  },
  {
   "cell_type": "code",
   "execution_count": null,
   "metadata": {},
   "outputs": [],
   "source": []
  }
 ],
 "metadata": {
  "kernelspec": {
   "display_name": "Python 3",
   "language": "python",
   "name": "python3"
  },
  "language_info": {
   "codemirror_mode": {
    "name": "ipython",
    "version": 3
   },
   "file_extension": ".py",
   "mimetype": "text/x-python",
   "name": "python",
   "nbconvert_exporter": "python",
   "pygments_lexer": "ipython3",
   "version": "3.7.6"
  }
 },
 "nbformat": 4,
 "nbformat_minor": 4
}
