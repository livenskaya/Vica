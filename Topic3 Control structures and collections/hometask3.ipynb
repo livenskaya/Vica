{
 "cells": [
  {
   "cell_type": "code",
   "execution_count": 54,
   "metadata": {},
   "outputs": [
    {
     "name": "stdout",
     "output_type": "stream",
     "text": [
      "to\n"
     ]
    }
   ],
   "source": [
    "string= \"victoria\"\n",
    "x=len(string)\n",
    "a=x//2-1\n",
    "y=a+2\n",
    "if x % 2==0:\n",
    "    print(string [a:y])\n",
    "else:\n",
    "    print(string [a+1])\n",
    "        "
   ]
  },
  {
   "cell_type": "code",
   "execution_count": 112,
   "metadata": {},
   "outputs": [
    {
     "name": "stdout",
     "output_type": "stream",
     "text": [
      "Идеальные пары:\n",
      "Alex Emma\n",
      "Arthur Kate\n",
      "John Kira\n",
      "Peter Liza\n",
      "Richard Trisha\n"
     ]
    }
   ],
   "source": [
    "boys = ['Peter', 'Alex', 'John', 'Arthur', 'Richard']\n",
    "girls = ['Kate', 'Liza', 'Kira', 'Emma', 'Trisha']\n",
    "if len(boys) != len(girls):\n",
    "    print('К сожалению,кто-то без пары!!!')\n",
    "else:\n",
    "    boys1 = sorted (boys)\n",
    "    girls1 = sorted (girls)\n",
    "    #print (boys1)\n",
    "    #print (girls1)\n",
    "    pairs = list(zip (boys1, girls1))\n",
    "    #print(list(pairs))\n",
    "    print('Идеальные пары:')\n",
    "    for i in pairs:\n",
    "        print(i[0], i[1])"
   ]
  },
  {
   "cell_type": "code",
   "execution_count": 124,
   "metadata": {},
   "outputs": [
    {
     "name": "stdout",
     "output_type": "stream",
     "text": [
      "Средняя температура за неделю в С: \n",
      "Thailand 24\n",
      "Germany 14\n",
      "Russia 4\n",
      "Poland 12\n"
     ]
    }
   ],
   "source": [
    "countries_temperature = [ \n",
    " ['Thailand', [75.2, 77, 78.8, 73.4, 68, 75.2, 77]],\n",
    " ['Germany', [57.2, 55.4, 59, 59, 53.6, 55.4, 57.2]],\n",
    " ['Russia', [35.6, 37.4, 39.2, 41, 42.8, 39.2, 35.6]],\n",
    " ['Poland', [50, 50, 53.6, 57.2, 55.4, 55.4, 51.8]],\n",
    "]\n",
    "print('Средняя температура за неделю в С: ')\n",
    "for i in countries_temperature:\n",
    "    print(i[0],round((sum(i[1])/7-32)*5/9))"
   ]
  },
  {
   "cell_type": "code",
   "execution_count": 387,
   "metadata": {
    "scrolled": true
   },
   "outputs": [
    {
     "name": "stdout",
     "output_type": "stream",
     "text": [
      "23.25\n"
     ]
    }
   ],
   "source": [
    "stream = [\n",
    "    '2018-01-01,user1,3',\n",
    "    '2018-01-07,user1,4',\n",
    "    '2018-03-29,user1,1',\n",
    "    '2018-04-04,user1,13',\n",
    "    '2018-01-05,user2,7',\n",
    "    '2018-06-14,user3,4',\n",
    "    '2018-07-02,user3,10',\n",
    "    '2018-03-21,user4,19',\n",
    "    '2018-03-22,user4,4',\n",
    "    '2018-04-22,user4,8',\n",
    "    '2018-05-03,user4,9',\n",
    "    '2018-05-11,user4,11',\n",
    "]\n",
    "name = []\n",
    "summa = 0\n",
    "x = 0\n",
    "for i, item in enumerate(stream):\n",
    "    stream[i] = item.split(',')\n",
    "    stream[i][2] = int(stream[i][2])\n",
    "    #print(stream[i][1])\n",
    "    if stream[i][1] not in name:\n",
    "        name.append(stream[i][1])\n",
    "    \n",
    "    summa+= stream [i][2]\n",
    "#print(summa)\n",
    "#print(name) \n",
    "print(summa/len(name))"
   ]
  },
  {
   "cell_type": "raw",
   "metadata": {},
   "source": []
  },
  {
   "cell_type": "code",
   "execution_count": 389,
   "metadata": {},
   "outputs": [],
   "source": [
    " data = [\n",
    "    [13, 25, 23, 34],\n",
    "    [45, 32, 44, 47],\n",
    "    [12, 33, 23, 95],\n",
    "    [13, 53, 34, 35]\n",
    "]\n",
    "  \n",
    "    \n",
    "   "
   ]
  },
  {
   "cell_type": "code",
   "execution_count": 346,
   "metadata": {},
   "outputs": [
    {
     "name": "stdout",
     "output_type": "stream",
     "text": [
      "<enumerate object at 0x0000022BDA5F46D8>\n"
     ]
    }
   ],
   "source": [
    " print(enumerate(data))  \n",
    "    "
   ]
  },
  {
   "cell_type": "code",
   "execution_count": null,
   "metadata": {},
   "outputs": [],
   "source": []
  },
  {
   "cell_type": "code",
   "execution_count": 316,
   "metadata": {},
   "outputs": [
    {
     "name": "stdout",
     "output_type": "stream",
     "text": [
      "103\n"
     ]
    }
   ],
   "source": [
    "i = 0\n",
    "summa = 0\n",
    "for i,item in enumerate(data):\n",
    "    #diagonal = (data[i][i])\n",
    "    #print(diagonal)\n",
    "    summa += data[i][i]\n",
    "    \n",
    "print(summa)\n",
    "    \n",
    "    \n",
    "    "
   ]
  },
  {
   "cell_type": "code",
   "execution_count": 245,
   "metadata": {},
   "outputs": [],
   "source": [
    "stats = [i = 0\n",
    "summa = 0\n",
    "for i,item in enumerate(data):\n",
    "    #diagonal = (data[i][i])\n",
    "    #print(diagonal)\n",
    "    summa += data[i][i]\n",
    "    \n",
    "print(summa)\n",
    "    \n",
    "    \n",
    "    ['2018-01-01', 'google', 25],\n",
    "    ['2018-01-01', 'yandex', 65],\n",
    "    ['2018-01-01', 'market', 89],\n",
    "    ['2018-01-02', 'google', 574],\n",
    "    ['2018-01-02', 'yandex', 249],\n",
    "    ['2018-01-02', 'market', 994],\n",
    "    ['2018-01-03', 'google', 1843],\n",
    "    ['2018-01-03', 'yandex', 1327],\n",
    "    ['2018-01-03', 'market', 1764],\n",
    "]"
   ]
  },
  {
   "cell_type": "code",
   "execution_count": 254,
   "metadata": {},
   "outputs": [
    {
     "name": "stdout",
     "output_type": "stream",
     "text": [
      "введите дату 2018-01-03\n",
      "введите имя компании google\n",
      "1843\n"
     ]
    }
   ],
   "source": [
    "date = input('введите дату ')\n",
    "name = input('введите имя компании ')\n",
    "for inf in stats:\n",
    "    if date == inf[0] and name == inf[1]:\n",
    "        print(inf[2])\n"
   ]
  },
  {
   "cell_type": "code",
   "execution_count": null,
   "metadata": {},
   "outputs": [],
   "source": []
  }
 ],
 "metadata": {
  "kernelspec": {
   "display_name": "Python 3",
   "language": "python",
   "name": "python3"
  },
  "language_info": {
   "codemirror_mode": {
    "name": "ipython",
    "version": 3
   },
   "file_extension": ".py",
   "mimetype": "text/x-python",
   "name": "python",
   "nbconvert_exporter": "python",
   "pygments_lexer": "ipython3",
   "version": "3.7.6"
  }
 },
 "nbformat": 4,
 "nbformat_minor": 4
}
